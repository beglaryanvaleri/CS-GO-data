{
 "cells": [
  {
   "cell_type": "markdown",
   "id": "11d59be3",
   "metadata": {},
   "source": [
    "https://www.cybersport.ru/teams/cs-go/counter-logic-gaming-red7206\n",
    "https://www.cybersport.ru/teams/cs-go?page=2"
   ]
  },
  {
   "cell_type": "code",
   "execution_count": 1,
   "id": "80df70a7",
   "metadata": {},
   "outputs": [],
   "source": [
    "import pandas as pd\n",
    "import numpy as np\n",
    "import regex as re\n",
    "\n",
    "import requests\n",
    "from bs4 import BeautifulSoup as BS\n",
    "from selenium import webdriver\n",
    "from webdriver_manager.chrome import ChromeDriverManager\n",
    "import time"
   ]
  },
  {
   "cell_type": "code",
   "execution_count": 134,
   "id": "57c6403a",
   "metadata": {},
   "outputs": [
    {
     "name": "stderr",
     "output_type": "stream",
     "text": [
      "c:\\users\\begla\\appdata\\local\\programs\\python\\python37\\lib\\site-packages\\ipykernel_launcher.py:4: DeprecationWarning: executable_path has been deprecated, please pass in a Service object\n",
      "  after removing the cwd from sys.path.\n"
     ]
    }
   ],
   "source": [
    "df = pd.DataFrame(columns = ('team', 'games', 'win', 'draw', 'loss', 'prizes', 'href_key'))\n",
    "for i in range(1, 98):\n",
    "    url = \"https://www.cybersport.ru/teams/cs-go?page=\" + str(i)\n",
    "    driver = webdriver.Chrome(ChromeDriverManager().install())\n",
    "    driver.get(url)\n",
    "    html = driver.page_source\n",
    "    soup = BS(html, \"html.parser\")\n",
    "    \n",
    "    teams = soup.find_all('td', class_=\"cellTeam_A-csa\")\n",
    "    win_loss = soup.find_all('td', class_=\"cellStats_BlV7H\")\n",
    "    prizes = soup.find_all('td', class_=\"cellTotal_1yo3T cellTotalText_yck9n\") \n",
    "\n",
    "    href_arr = [re.findall(r'<a class=\"team_W5iS-\" href=\"/teams/cs-go/(.*)\"><div class=\"place', str(i))[0] for i in teams[1:]]\n",
    "    team_arr = [re.findall(r'</div><div>(.*)</div></a>', str(i))[0] for i in teams[1:]]\n",
    "    total_games_arr = [re.findall(r'Всего матчей: ([0-9]*)</div><div class', str(i))[0] for i in win_loss[1:]]\n",
    "    win_arr = [re.findall(r'class=\"percentItem_hHzOn green_BcEtM\">([0-9]*)', str(i))[0] for i in win_loss[1:]]\n",
    "    draw_arr = [re.findall(r'percentItem_hHzOn gray_UK9m5\">/ ([0-9]*)', str(i))[0] for i in win_loss[1:]]\n",
    "    loss_arr = [re.findall(r'\"percentItem_hHzOn red_SV-Jd\">([0-9]*)', str(i))[0] for i in win_loss[1:]]\n",
    "    prizes_arr = [re.findall(r't_yck9n\">(.*)</td>', str(i))[0].replace('\\xa0', '').replace('$ ', '') for i in prizes[1:]]\n",
    "\n",
    "    df1 = pd.DataFrame(data=zip(team_arr, total_games_arr, win_arr, draw_arr, loss_arr, prizes_arr, href_arr),\n",
    "                     columns = ('team', 'games', 'win', 'draw', 'loss', 'prizes', 'href_key'))\n",
    "    df1 = df1.applymap(lambda x: np.NaN if x.strip() == '' else x)\n",
    "    df = df.append(df1, ignore_index=True)"
   ]
  },
  {
   "cell_type": "code",
   "execution_count": 136,
   "id": "b48b3442",
   "metadata": {},
   "outputs": [
    {
     "data": {
      "text/html": [
       "<div>\n",
       "<style scoped>\n",
       "    .dataframe tbody tr th:only-of-type {\n",
       "        vertical-align: middle;\n",
       "    }\n",
       "\n",
       "    .dataframe tbody tr th {\n",
       "        vertical-align: top;\n",
       "    }\n",
       "\n",
       "    .dataframe thead th {\n",
       "        text-align: right;\n",
       "    }\n",
       "</style>\n",
       "<table border=\"1\" class=\"dataframe\">\n",
       "  <thead>\n",
       "    <tr style=\"text-align: right;\">\n",
       "      <th></th>\n",
       "      <th>team</th>\n",
       "      <th>games</th>\n",
       "      <th>win</th>\n",
       "      <th>draw</th>\n",
       "      <th>loss</th>\n",
       "      <th>prizes</th>\n",
       "      <th>href_key</th>\n",
       "    </tr>\n",
       "  </thead>\n",
       "  <tbody>\n",
       "    <tr>\n",
       "      <th>0</th>\n",
       "      <td>Astralis</td>\n",
       "      <td>832</td>\n",
       "      <td>555</td>\n",
       "      <td>5</td>\n",
       "      <td>272</td>\n",
       "      <td>7301445</td>\n",
       "      <td>astralis</td>\n",
       "    </tr>\n",
       "    <tr>\n",
       "      <th>1</th>\n",
       "      <td>Natus Vincere</td>\n",
       "      <td>1093</td>\n",
       "      <td>659</td>\n",
       "      <td>28</td>\n",
       "      <td>406</td>\n",
       "      <td>5044259</td>\n",
       "      <td>navi-cs-go</td>\n",
       "    </tr>\n",
       "    <tr>\n",
       "      <th>2</th>\n",
       "      <td>Fnatic</td>\n",
       "      <td>1151</td>\n",
       "      <td>703</td>\n",
       "      <td>20</td>\n",
       "      <td>428</td>\n",
       "      <td>4793350</td>\n",
       "      <td>fnatic-cs-go</td>\n",
       "    </tr>\n",
       "    <tr>\n",
       "      <th>3</th>\n",
       "      <td>FaZe Clan</td>\n",
       "      <td>799</td>\n",
       "      <td>464</td>\n",
       "      <td>6</td>\n",
       "      <td>329</td>\n",
       "      <td>4214683</td>\n",
       "      <td>faze-clan</td>\n",
       "    </tr>\n",
       "    <tr>\n",
       "      <th>4</th>\n",
       "      <td>Virtus.pro</td>\n",
       "      <td>1317</td>\n",
       "      <td>693</td>\n",
       "      <td>34</td>\n",
       "      <td>590</td>\n",
       "      <td>3680778</td>\n",
       "      <td>virtus-pro-csgo</td>\n",
       "    </tr>\n",
       "    <tr>\n",
       "      <th>...</th>\n",
       "      <td>...</td>\n",
       "      <td>...</td>\n",
       "      <td>...</td>\n",
       "      <td>...</td>\n",
       "      <td>...</td>\n",
       "      <td>...</td>\n",
       "      <td>...</td>\n",
       "    </tr>\n",
       "    <tr>\n",
       "      <th>2797</th>\n",
       "      <td>Черногория</td>\n",
       "      <td>1</td>\n",
       "      <td>0</td>\n",
       "      <td>0</td>\n",
       "      <td>1</td>\n",
       "      <td>NaN</td>\n",
       "      <td>361</td>\n",
       "    </tr>\n",
       "    <tr>\n",
       "      <th>2798</th>\n",
       "      <td>Черногория</td>\n",
       "      <td>3</td>\n",
       "      <td>2</td>\n",
       "      <td>0</td>\n",
       "      <td>1</td>\n",
       "      <td>NaN</td>\n",
       "      <td>6839</td>\n",
       "    </tr>\n",
       "    <tr>\n",
       "      <th>2799</th>\n",
       "      <td>Чехия</td>\n",
       "      <td>8</td>\n",
       "      <td>5</td>\n",
       "      <td>0</td>\n",
       "      <td>3</td>\n",
       "      <td>NaN</td>\n",
       "      <td>2438</td>\n",
       "    </tr>\n",
       "    <tr>\n",
       "      <th>2800</th>\n",
       "      <td>Швейцария</td>\n",
       "      <td>2</td>\n",
       "      <td>0</td>\n",
       "      <td>0</td>\n",
       "      <td>2</td>\n",
       "      <td>NaN</td>\n",
       "      <td>9454</td>\n",
       "    </tr>\n",
       "    <tr>\n",
       "      <th>2801</th>\n",
       "      <td>Эстония</td>\n",
       "      <td>5</td>\n",
       "      <td>2</td>\n",
       "      <td>0</td>\n",
       "      <td>3</td>\n",
       "      <td>NaN</td>\n",
       "      <td>9102</td>\n",
       "    </tr>\n",
       "  </tbody>\n",
       "</table>\n",
       "<p>2802 rows × 7 columns</p>\n",
       "</div>"
      ],
      "text/plain": [
       "               team games  win draw loss   prizes         href_key\n",
       "0          Astralis   832  555    5  272  7301445         astralis\n",
       "1     Natus Vincere  1093  659   28  406  5044259       navi-cs-go\n",
       "2            Fnatic  1151  703   20  428  4793350     fnatic-cs-go\n",
       "3         FaZe Clan   799  464    6  329  4214683        faze-clan\n",
       "4        Virtus.pro  1317  693   34  590  3680778  virtus-pro-csgo\n",
       "...             ...   ...  ...  ...  ...      ...              ...\n",
       "2797     Черногория     1    0    0    1      NaN              361\n",
       "2798     Черногория     3    2    0    1      NaN             6839\n",
       "2799          Чехия     8    5    0    3      NaN             2438\n",
       "2800      Швейцария     2    0    0    2      NaN             9454\n",
       "2801        Эстония     5    2    0    3      NaN             9102\n",
       "\n",
       "[2802 rows x 7 columns]"
      ]
     },
     "execution_count": 136,
     "metadata": {},
     "output_type": "execute_result"
    }
   ],
   "source": [
    "df"
   ]
  },
  {
   "cell_type": "code",
   "execution_count": 140,
   "id": "7726665e",
   "metadata": {},
   "outputs": [],
   "source": [
    "df.to_csv(\"teams.csv\", encoding='utf-8-sig', index=False)"
   ]
  },
  {
   "cell_type": "code",
   "execution_count": null,
   "id": "3507d30f",
   "metadata": {},
   "outputs": [],
   "source": []
  },
  {
   "cell_type": "code",
   "execution_count": null,
   "id": "75d7f3a2",
   "metadata": {},
   "outputs": [],
   "source": []
  },
  {
   "cell_type": "code",
   "execution_count": 141,
   "id": "811ca6d7",
   "metadata": {},
   "outputs": [],
   "source": [
    "from selenium.webdriver.common.by import By"
   ]
  },
  {
   "cell_type": "code",
   "execution_count": 142,
   "id": "0683abd0",
   "metadata": {},
   "outputs": [
    {
     "name": "stderr",
     "output_type": "stream",
     "text": [
      "c:\\users\\begla\\appdata\\local\\programs\\python\\python37\\lib\\site-packages\\ipykernel_launcher.py:2: DeprecationWarning: executable_path has been deprecated, please pass in a Service object\n",
      "  \n"
     ]
    }
   ],
   "source": [
    "url = \"https://www.cybersport.ru/teams/cs-go/fnatic-cs-go\"\n",
    "driver = webdriver.Chrome(ChromeDriverManager().install())\n",
    "driver.get(url)\n",
    "html = driver.page_source\n",
    "soup = BS(html, \"html.parser\")"
   ]
  },
  {
   "cell_type": "code",
   "execution_count": 166,
   "id": "7ca152f9",
   "metadata": {},
   "outputs": [],
   "source": [
    "driver.find_element(By.XPATH, '//button[text()=\"Показать еще\"]').click()"
   ]
  },
  {
   "cell_type": "code",
   "execution_count": null,
   "id": "349f665e",
   "metadata": {},
   "outputs": [],
   "source": []
  },
  {
   "cell_type": "code",
   "execution_count": null,
   "id": "8e19f3d6",
   "metadata": {},
   "outputs": [],
   "source": [
    "wait.until(EC.element_to_be_clickable((By.CSS_SELECTOR, '#your selector'))).click()"
   ]
  },
  {
   "cell_type": "code",
   "execution_count": null,
   "id": "2d5107dc",
   "metadata": {},
   "outputs": [],
   "source": []
  },
  {
   "cell_type": "code",
   "execution_count": null,
   "id": "d96853f8",
   "metadata": {},
   "outputs": [],
   "source": []
  },
  {
   "cell_type": "code",
   "execution_count": null,
   "id": "3a9671c0",
   "metadata": {},
   "outputs": [],
   "source": []
  },
  {
   "cell_type": "code",
   "execution_count": null,
   "id": "75161021",
   "metadata": {},
   "outputs": [],
   "source": []
  },
  {
   "cell_type": "code",
   "execution_count": null,
   "id": "01630d91",
   "metadata": {},
   "outputs": [],
   "source": []
  },
  {
   "cell_type": "code",
   "execution_count": null,
   "id": "aaab274f",
   "metadata": {},
   "outputs": [],
   "source": []
  },
  {
   "cell_type": "code",
   "execution_count": null,
   "id": "12b9e91a",
   "metadata": {},
   "outputs": [],
   "source": []
  }
 ],
 "metadata": {
  "kernelspec": {
   "display_name": "Python 3 (ipykernel)",
   "language": "python",
   "name": "python3"
  },
  "language_info": {
   "codemirror_mode": {
    "name": "ipython",
    "version": 3
   },
   "file_extension": ".py",
   "mimetype": "text/x-python",
   "name": "python",
   "nbconvert_exporter": "python",
   "pygments_lexer": "ipython3",
   "version": "3.7.9"
  }
 },
 "nbformat": 4,
 "nbformat_minor": 5
}
